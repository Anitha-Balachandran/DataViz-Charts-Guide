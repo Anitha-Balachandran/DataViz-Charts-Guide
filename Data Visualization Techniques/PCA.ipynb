{
 "cells": [
  {
   "cell_type": "markdown",
   "id": "3c19f543",
   "metadata": {},
   "source": [
    "## PCA Demo\n"
   ]
  },
  {
   "cell_type": "code",
   "execution_count": 1,
   "id": "99b2d383",
   "metadata": {},
   "outputs": [],
   "source": [
    "import numpy as np\n",
    "import scipy.linalg as la"
   ]
  },
  {
   "cell_type": "code",
   "execution_count": 2,
   "id": "65f2fc82",
   "metadata": {},
   "outputs": [
    {
     "data": {
      "text/plain": [
       "array([[ 0.16666667,  0.08333333, -0.25      ,  0.25      ],\n",
       "       [ 0.08333333,  0.16666667,  0.        ,  0.        ],\n",
       "       [-0.25      ,  0.        ,  0.5       , -0.5       ],\n",
       "       [ 0.25      ,  0.        , -0.5       ,  0.5       ]])"
      ]
     },
     "execution_count": 2,
     "metadata": {},
     "output_type": "execute_result"
    }
   ],
   "source": [
    "#Generate a dummy dataset.\n",
    "X = np.array([[1,2,2], [1,2,1], [3,2,1], [1,2,3]])\n",
    "C_X = (1/2)*np.cov(X)\n",
    "\n",
    "C_X"
   ]
  },
  {
   "cell_type": "code",
   "execution_count": 3,
   "id": "eb727c9e",
   "metadata": {},
   "outputs": [
    {
     "name": "stdout",
     "output_type": "stream",
     "text": [
      "[ 1.13064703e+00+0.j  2.02686303e-01+0.j  2.44251030e-19+0.j\n",
      " -1.06709427e-16+0.j]\n",
      "[[-0.34646195  0.39075746  0.02169189 -0.84937297]\n",
      " [-0.02995064  0.90403804 -0.01084595  0.42468648]\n",
      " [ 0.66297326  0.12252312  0.71230097 -0.1489885 ]\n",
      " [-0.66297326 -0.12252312  0.70145503  0.27569798]]\n"
     ]
    }
   ],
   "source": [
    "w, v = la.eig(C_X)\n",
    "print(w)\n",
    "\n",
    "print(v)"
   ]
  },
  {
   "cell_type": "code",
   "execution_count": 4,
   "id": "d8573d78",
   "metadata": {},
   "outputs": [
    {
     "data": {
      "text/plain": [
       "-0.0371363435610233"
      ]
     },
     "execution_count": 4,
     "metadata": {},
     "output_type": "execute_result"
    }
   ],
   "source": [
    "np.sum(v[0]*v[3])"
   ]
  },
  {
   "cell_type": "markdown",
   "id": "4c07ab75",
   "metadata": {},
   "source": [
    "### Principal components of X are the e-vectors of XX^T (P=[p_i])\n",
    "\n",
    "### The i-th diagonal value of C_Y is the varaince of X along p_i"
   ]
  },
  {
   "cell_type": "code",
   "execution_count": 1,
   "id": "5705ce1a",
   "metadata": {},
   "outputs": [
    {
     "data": {
      "image/png": "[encoded data removed]",
      "text/plain": [
       "<Figure size 640x480 with 1 Axes>"
      ]
     },
     "metadata": {},
     "output_type": "display_data"
    }
   ],
   "source": [
    "import numpy as np\n",
    "import matplotlib.pyplot as plt\n",
    "\n",
    "# Create a 2D array for your points\n",
    "points = np.array([[1, 2], \n",
    "                   [3, 4], \n",
    "                   [5, 2], \n",
    "                   [1, 2]])  # add the first point to close the triangle\n",
    "\n",
    "# Define the rotation matrix for 60 degrees\n",
    "theta = np.radians(60)  # convert to radians\n",
    "rotation_matrix = np.array([[np.cos(theta), -np.sin(theta)], \n",
    "                            [np.sin(theta), np.cos(theta)]])\n",
    "\n",
    "# Apply the rotation matrix to the points\n",
    "rotated_points = np.dot(points, rotation_matrix.T)\n",
    "\n",
    "# Plot original and rotated triangle\n",
    "plt.figure()\n",
    "\n",
    "# Plot original triangle\n",
    "plt.plot(points[:, 0], points[:, 1], 'b-', label='Original triangle')\n",
    "\n",
    "# Plot rotated triangle\n",
    "plt.plot(rotated_points[:, 0], rotated_points[:, 1], 'r-', label='Rotated triangle')\n",
    "\n",
    "# Setup plot\n",
    "plt.xlim(-2, 8)\n",
    "plt.ylim(-2, 10)\n",
    "plt.grid(True)\n",
    "plt.axhline(0, color='black',linewidth=0.5)\n",
    "plt.axvline(0, color='black',linewidth=0.5)\n",
    "plt.gca().set_aspect('equal', adjustable='box')\n",
    "plt.legend()\n",
    "plt.title('60 degree rotation of a triangle')\n",
    "plt.show()\n"
   ]
  },
  {
   "cell_type": "code",
   "execution_count": null,
   "id": "073802ed",
   "metadata": {},
   "outputs": [],
   "source": []
  }
 ],
 "metadata": {
  "kernelspec": {
   "display_name": "Python 3 (ipykernel)",
   "language": "python",
   "name": "python3"
  },
  "language_info": {
   "codemirror_mode": {
    "name": "ipython",
    "version": 3
   },
   "file_extension": ".py",
   "mimetype": "text/x-python",
   "name": "python",
   "nbconvert_exporter": "python",
   "pygments_lexer": "ipython3",
   "version": "3.9.13"
  }
 },
 "nbformat": 4,
 "nbformat_minor": 5
}
